{
  "cells": [
    {
      "cell_type": "markdown",
      "metadata": {
        "id": "view-in-github",
        "colab_type": "text"
      },
      "source": [
        "<a href=\"https://colab.research.google.com/github/grrr127/13_git/blob/main/task_1.ipynb\" target=\"_parent\"><img src=\"https://colab.research.google.com/assets/colab-badge.svg\" alt=\"Open In Colab\"/></a>"
      ]
    },
    {
      "cell_type": "markdown",
      "metadata": {
        "id": "48AiHkN5RozO"
      },
      "source": [
        "안녕하세요. 수강생 여러분~! Chapter33 ~ 41 수업은 잘 들으셨나요?\n",
        "\n",
        "Chapter33 ~ 41의 수업 내용을 바탕으로 아래 문제를 풀어주시면 됩니다.\n",
        "\n",
        "\n",
        "<br>\n",
        "\n",
        "\n",
        "[**답변 입력 방법**]\n",
        "\n",
        "문제 아래에 있는 코드 입력창에 정답코드를 작성하신 후  __▷ 버튼을 클릭해 코드를 실행__ 해보세요<br>"
      ]
    },
    {
      "cell_type": "markdown",
      "metadata": {
        "id": "YkTg-NS2RozP"
      },
      "source": [
        "---"
      ]
    },
    {
      "cell_type": "markdown",
      "metadata": {
        "id": "1UB7jblKRozQ"
      },
      "source": [
        "[문제 1]\n",
        "\n",
        "사용자로부터 두 개의 숫자를 입력받아 나눗셈을 수행하는 프로그램을 작성하세요.\n",
        "\n",
        "[예외처리]\n",
        "- 입력 값이 숫자가 아닐 때 발생할 수 있는 ValueError\n",
        "- 나누는 수가 0일 때 발생할 수 있는 ZeroDivisionError\n",
        "- 위 2가지 예외처리 후 사용자에게 이해하기 쉬운 메시지 작성 후 출력되도록 코드를 작성"
      ]
    },
    {
      "cell_type": "code",
      "execution_count": null,
      "metadata": {
        "colab": {
          "base_uri": "https://localhost:8080/"
        },
        "id": "dItOf-UyRozQ",
        "outputId": "4263b930-0432-4220-fd3b-20b2553e76f7"
      },
      "outputs": [
        {
          "output_type": "stream",
          "name": "stdout",
          "text": [
            "숫자 2개를 입력해주세요3 0.2\n",
            "정수를 입력해주세요\n"
          ]
        }
      ],
      "source": [
        "try:\n",
        "    x, y = map(int, input(\"숫자 2개를 입력해주세요\").split(\" \"))\n",
        "    print(f'두 숫자를 나눈 값은 {x/y}')\n",
        "except ValueError as exception:\n",
        "    print(\"정수를 입력해주세요\")\n",
        "except ZeroDivisionError as exception:\n",
        "    print(\"0을 제외하고 입력해주세요\")\n"
      ]
    },
    {
      "cell_type": "markdown",
      "metadata": {
        "id": "S3M7f_DaRozQ"
      },
      "source": [
        "---"
      ]
    },
    {
      "cell_type": "markdown",
      "metadata": {
        "id": "BOFdSQjiRozQ"
      },
      "source": [
        "[문제 2]\n",
        "\n",
        "파일을 읽어서 내용을 출력하는 프로그램을 작성하세요.\n",
        "\n",
        "- 파일이 존재하지 않을 때 발생하는 FileNotFoundError를 처리\n",
        "- 파일이 존재하지 않을 경우 \"파일을 찾을 수 없습니다.\"라는 메시지를 출력"
      ]
    },
    {
      "cell_type": "code",
      "execution_count": null,
      "metadata": {
        "colab": {
          "base_uri": "https://localhost:8080/"
        },
        "id": "tdJTfxpIRozQ",
        "outputId": "cf989b7f-2ce0-4fa5-9687-b952c433a1ad"
      },
      "outputs": [
        {
          "output_type": "stream",
          "name": "stdout",
          "text": [
            "파일을 찾을 수 없습니다.\n"
          ]
        }
      ],
      "source": [
        "try:\n",
        "    with open(\"file.txt\") as f:\n",
        "        file_read = f.read()\n",
        "        print(file_read)\n",
        "except FileNotFoundError:\n",
        "    print(\"파일을 찾을 수 없습니다.\")"
      ]
    },
    {
      "cell_type": "markdown",
      "metadata": {
        "id": "3M164DlaRozQ"
      },
      "source": [
        "---"
      ]
    },
    {
      "cell_type": "markdown",
      "metadata": {
        "id": "G7xw5J0SRozR"
      },
      "source": [
        "[문제 3]\n",
        "\n",
        "사용자로부터 여러 개의 숫자를 입력받아 리스트에 저장한 후, 사용자가 'done'이라고 입력할 때까지 계속 입력받으세요.\n",
        "\n",
        "- 입력 중 숫자가 아닌 값이 입력되면 ValueError를 처리\n",
        "- 숫자 외 값이 입력된 경우 어떤 값이 잘못 입력되었는지 사용자에게 알려주는 문구 출력<br>\n",
        "  (예: f\"잘못된 값: {변수}. 숫자를 입력해주세요.\")\n",
        "\n"
      ]
    },
    {
      "cell_type": "code",
      "execution_count": null,
      "metadata": {
        "colab": {
          "base_uri": "https://localhost:8080/"
        },
        "id": "eaUiHc7yRozR",
        "outputId": "f710041d-79dd-47b3-9a8f-17d5f7635df5"
      },
      "outputs": [
        {
          "output_type": "stream",
          "name": "stdout",
          "text": [
            "숫자를 입력하세요(종료하려면 done 입력) : 44\n",
            "숫자를 입력하세요(종료하려면 done 입력) : 3\n",
            "숫자를 입력하세요(종료하려면 done 입력) : 2\n",
            "숫자를 입력하세요(종료하려면 done 입력) : 5\n",
            "숫자를 입력하세요(종료하려면 done 입력) : done\n",
            "[44, 3, 2, 5]\n"
          ]
        }
      ],
      "source": [
        "numbers=[]\n",
        "\n",
        "while True:\n",
        "    num_input = input(\"숫자를 입력하세요(종료하려면 done 입력) : \")\n",
        "\n",
        "    if num_input == \"done\":\n",
        "        break\n",
        "\n",
        "    try:\n",
        "        num = int(num_input)\n",
        "        numbers.append(num)\n",
        "\n",
        "    except ValueError:\n",
        "        print(f'잘못된 값:{num_input} 숫자를 입력해주세요')\n",
        "\n",
        "print(numbers)"
      ]
    },
    {
      "cell_type": "markdown",
      "metadata": {
        "id": "n1LETmuwRozR"
      },
      "source": [
        "---"
      ]
    },
    {
      "cell_type": "markdown",
      "metadata": {
        "id": "Y3zUhxsURozR"
      },
      "source": [
        "[문제 4]\n",
        "\n",
        "사용자 정의 예외 NegativeNumberError를 생성하고, 사용자로부터 숫자를 입력받아 음수일 경우 NegativeNumberError를 발생시키는 프로그램을 작성하세요.\n",
        "\n",
        "- 예외 처리 구문을 사용하여 음수 입력 시 \"양수를 입력해주세요.\"라는 메시지를 출력"
      ]
    },
    {
      "cell_type": "code",
      "execution_count": null,
      "metadata": {
        "colab": {
          "base_uri": "https://localhost:8080/"
        },
        "id": "whunr8-FRozR",
        "outputId": "0a06a066-11f8-4989-d5dc-9a8de49978cf"
      },
      "outputs": [
        {
          "output_type": "stream",
          "name": "stdout",
          "text": [
            "숫자를 입력해주세요-4\n",
            "양수를 입력해주세요\n"
          ]
        }
      ],
      "source": [
        "class NegativeNumberError(Exception):\n",
        "    pass\n",
        "\n",
        "try:\n",
        "    num = int(input(\"숫자를 입력해주세요\"))\n",
        "    if num < 0 :\n",
        "        raise NegativeNumberError(\"양수를 입력해주세요\")\n",
        "    print(\"입력한 숫자 :\",num)\n",
        "\n",
        "except NegativeNumberError as n:\n",
        "    print(n)"
      ]
    },
    {
      "cell_type": "markdown",
      "metadata": {
        "id": "TbnwbwWQRozR"
      },
      "source": [
        "---"
      ]
    },
    {
      "cell_type": "markdown",
      "metadata": {
        "id": "_oi1pi-3RozR"
      },
      "source": [
        "[문제 5]\n",
        "\n",
        "datetime 모듈을 사용하여 현재 날짜와 시간을 출력하는 프로그램을 작성하세요.\n",
        "\n",
        "또한, 사용자로부터 태어난 년도를 입력받아 현재 나이를 계산하여 출력하세요."
      ]
    },
    {
      "cell_type": "code",
      "execution_count": null,
      "metadata": {
        "colab": {
          "base_uri": "https://localhost:8080/"
        },
        "id": "_8GHn0AxRozR",
        "outputId": "f1f502d8-4072-428a-9cf3-54ec1b7cbf69"
      },
      "outputs": [
        {
          "output_type": "stream",
          "name": "stdout",
          "text": [
            "2025년 07월 17일 08시 04분 37초\n",
            "태어난 년도를 입력해주세요 : 1991\n",
            "현재 나이는 : 34\n"
          ]
        }
      ],
      "source": [
        "import datetime\n",
        "\n",
        "now = datetime.datetime.now()\n",
        "\n",
        "output = now.strftime(\"%Y{} %m{} %d{} %H{} %M{} %S{}\").format(*\"년월일시분초\")\n",
        "\n",
        "print(output)\n",
        "\n",
        "year = int(input(\"태어난 년도를 입력해주세요 : \"))\n",
        "print(\"현재 나이는 :\", now.year-year)"
      ]
    },
    {
      "cell_type": "markdown",
      "metadata": {
        "id": "aplLAdlyRozR"
      },
      "source": [
        "---"
      ]
    },
    {
      "cell_type": "markdown",
      "metadata": {
        "id": "RkhbaKjvRozR"
      },
      "source": [
        "[문제 6]\n",
        "\n",
        "requests 모듈을 사용하여, 웹 페이지의 HTML을 가져오는 간단한 웹 스크레이퍼를 작성하세요.\n",
        "\n",
        "'https://kream.co.kr/'에서<br>\n",
        "데이터를 가져와서 상태 코드와 HTML의 첫 100자를 출력하세요.<br>\n",
        "(실습 전 requests 모듈을 설치해야 함)"
      ]
    },
    {
      "cell_type": "code",
      "execution_count": null,
      "metadata": {
        "colab": {
          "base_uri": "https://localhost:8080/"
        },
        "id": "9JjXlyD9RozR",
        "outputId": "4484cee7-4724-4527-a4f7-c5b54713d172"
      },
      "outputs": [
        {
          "output_type": "stream",
          "name": "stdout",
          "text": [
            "상태 코드 : 500\n",
            "첫 100자 : <!DOCTYPE html>\n",
            "<html lang=\"ko\">\n",
            "<head>\n",
            "<meta name=\"robots\" content=\"noindex, nofollow\" />\n",
            "<meta htt\n"
          ]
        }
      ],
      "source": [
        "import requests\n",
        "\n",
        "response = requests.get('https://kream.co.kr/')\n",
        "\n",
        "print(\"상태 코드 :\", response.status_code)\n",
        "print(\"첫 100자 :\", response.text[:100])\n"
      ]
    },
    {
      "cell_type": "markdown",
      "metadata": {
        "id": "pR-9WzTdRozR"
      },
      "source": [
        "---"
      ]
    },
    {
      "cell_type": "markdown",
      "metadata": {
        "id": "llUn6ZFURozR"
      },
      "source": [
        "[문제 7]\n",
        "\n",
        "함수 실행 시간을 측정하는 데코레이터 timer_decorator를 작성하세요.\n",
        "\n",
        "임의의 함수가 실행되는 시간을 측정하여 \"함수 실행 시간: x.xx초\" 형태로 출력하세요."
      ]
    },
    {
      "cell_type": "code",
      "execution_count": null,
      "metadata": {
        "colab": {
          "base_uri": "https://localhost:8080/"
        },
        "id": "57RRnoKRRozR",
        "outputId": "2aeca721-0ecf-4b35-95f6-5eb30410af34"
      },
      "outputs": [
        {
          "output_type": "stream",
          "name": "stdout",
          "text": [
            "함수 실행\n",
            "함수가 실행된 시간 : 0.007037639617919922초\n"
          ]
        }
      ],
      "source": [
        "import time as t\n",
        "\n",
        "def timer_decorator(function):\n",
        "\n",
        "    def wrapper():\n",
        "\n",
        "        start = t.time()\n",
        "        function()\n",
        "        end = t.time()\n",
        "\n",
        "        print(f'함수가 실행된 시간 : {end-start}초')\n",
        "\n",
        "    return wrapper\n",
        "\n",
        "@timer_decorator\n",
        "def test():\n",
        "    print(\"함수 실행\")\n",
        "\n",
        "test()\n"
      ]
    },
    {
      "cell_type": "markdown",
      "metadata": {
        "id": "AkybZX0hRozR"
      },
      "source": [
        "---"
      ]
    },
    {
      "cell_type": "markdown",
      "metadata": {
        "id": "k90e4tr9RozR"
      },
      "source": [
        "[문제 8]\n",
        "\n",
        "여러분이 자주 사용하는 수학적 연산<br>\n",
        "(예: 삼각형 넓이, 원의 넓이, 직육면체의 넓이)을 수행하는 함수들을 포함하는 mymath.py라는 이름의 모듈을 만드세요.\n",
        "\n",
        "이 모듈을 사용하여 작성된 함수들을 실제로 임포트하고 사용하는 간단한 프로그램을 작성하세요."
      ]
    },
    {
      "cell_type": "code",
      "execution_count": null,
      "metadata": {
        "id": "x92iJ_TsRozR"
      },
      "outputs": [],
      "source": [
        "# mymath.py\n",
        "p1 = 3.141592\n",
        "\n",
        "def triangle_area(base, height):\n",
        "    return base * height * 0.5\n",
        "\n",
        "def circle_area(radius):\n",
        "    return p1 * radius * radius\n",
        "\n",
        "def rectangular_prism_area(width, height, depth):\n",
        "    return (width * height + width * depth + height * depth) * 2"
      ]
    },
    {
      "cell_type": "code",
      "execution_count": null,
      "metadata": {
        "id": "NSWu5ILQRozR"
      },
      "outputs": [],
      "source": [
        "# m.py\n",
        "import mymath as m\n",
        "\n",
        "b, h = map(int, input(f'삼각형 밑면과 높이를 입력해주세요 :').split(' '))\n",
        "print(f'삼각형의 넓이 : {m.triangle_area(b,h)}')\n",
        "\n",
        "r = int(input(f'원의 반지름을 입력해주세요 :'))\n",
        "print(f'원의 넓이 : {m.circle_area(r)}')\n",
        "\n",
        "w, h2, d = map(int, input(f'직육면체의 가로, 세로, 높이를 입력해주세요 :').split(' '))\n",
        "print(f'직육면체 넓이 : {m.rectangular_prism_area(w, h2, d)}')\n"
      ]
    },
    {
      "cell_type": "markdown",
      "metadata": {
        "id": "Z1OeqK_ORozS"
      },
      "source": [
        "---"
      ]
    },
    {
      "cell_type": "markdown",
      "metadata": {
        "id": "ruEI_N7XRozS"
      },
      "source": [
        "[문제 9]\n",
        "\n",
        "animals라는 패키지를 만들고, 이 패키지 내에 mammals, birds라는 두 개의 서브 모듈을 생성하세요.\n",
        "\n",
        "- 각 모듈에는 최소한 한 개 이상의 동물에 관한 클래스를 정의하세요<br>\n",
        "  (예: mammals에는 Dog, birds에는 Eagle)\n",
        "- 이 패키지와 모듈을 사용하여 동물들의 정보를 출력하는 프로그램을 작성\n",
        "\n",
        "폴더 및 파일 구조\n",
        "```\n",
        "animals/(폴더)\n",
        "├── __init__.py\n",
        "├── mammals.py\n",
        "└── birds.py\n",
        "```\n"
      ]
    },
    {
      "cell_type": "code",
      "execution_count": null,
      "metadata": {
        "id": "Ix4UwUAkRozS"
      },
      "outputs": [],
      "source": [
        "# mammals.py\n",
        "\n",
        "class Dog :\n",
        "    def speak(self):\n",
        "        return \"멍멍\""
      ]
    },
    {
      "cell_type": "code",
      "execution_count": null,
      "metadata": {
        "id": "u5qO95OfRozS"
      },
      "outputs": [],
      "source": [
        "# birds.py\n",
        "\n",
        "class Eagle:\n",
        "    def fly(self):\n",
        "        return \"휘잉\""
      ]
    },
    {
      "cell_type": "code",
      "execution_count": null,
      "metadata": {
        "id": "kaSa1qN2RozS"
      },
      "outputs": [],
      "source": [
        "# main.py\n",
        "\n",
        "from animals.birds import Eagle\n",
        "from animals.mammals import Dog\n",
        "\n",
        "dog = Dog()\n",
        "eagle = Eagle()\n",
        "\n",
        "print(dog.speak())\n",
        "print(eagle.fly())"
      ]
    },
    {
      "cell_type": "markdown",
      "metadata": {
        "id": "SQhzExTWRozS"
      },
      "source": [
        "---"
      ]
    }
  ],
  "metadata": {
    "language_info": {
      "name": "python"
    },
    "colab": {
      "provenance": [],
      "include_colab_link": true
    },
    "kernelspec": {
      "name": "python3",
      "display_name": "Python 3"
    }
  },
  "nbformat": 4,
  "nbformat_minor": 0
}