{
  "cells": [
    {
      "cell_type": "markdown",
      "metadata": {
        "id": "view-in-github",
        "colab_type": "text"
      },
      "source": [
        "<a href=\"https://colab.research.google.com/github/grrr127/13_git/blob/main/Chaper0913_task.ipynb\" target=\"_parent\"><img src=\"https://colab.research.google.com/assets/colab-badge.svg\" alt=\"Open In Colab\"/></a>"
      ]
    },
    {
      "cell_type": "markdown",
      "metadata": {
        "id": "fD4Qab2qYgOm"
      },
      "source": [
        "안녕하세요. 수강생 여러분~! Chapter09 ~ 13 수업은 잘 들으셨나요?\n",
        "\n",
        "Chapter09 ~ 13의 수업 내용을 바탕으로 아래 문제를 풀어주시면 됩니다.\n",
        "\n",
        "\n",
        "<br>\n",
        "\n",
        "\n",
        "[**답변 입력 방법**]\n",
        "\n",
        "문제 아래에 있는 코드 입력창에 정답코드를 작성하신 후  __▷ 버튼을 클릭해 코드를 실행__ 해보세요<br>"
      ]
    },
    {
      "cell_type": "markdown",
      "metadata": {
        "id": "WiY5VkyZ8aXL"
      },
      "source": [
        "---"
      ]
    },
    {
      "cell_type": "markdown",
      "metadata": {
        "id": "znn9Cih_8aXL"
      },
      "source": [
        "__[문제0]__\n",
        "\n",
        "\n",
        "오즈 코딩 스쿨 백엔드 8기 과정에 참여한 수강생 중 3명의 수강생이 자율적으로 스터디 그룹을 결성했습니다.\n",
        "\n",
        "스터디 그룹 내에는 한 주간 배운 내용으로 매주 쪽지 시험을 보는 룰이 있습니다. 점수는 채점자 마음입니다.\n",
        "\n",
        "쪽지 시험의 점수를 직접 입력받고, 점수의 합을 출력해주세요!\n",
        "\n",
        "\n",
        "<br>\n",
        "\n"
      ]
    },
    {
      "cell_type": "code",
      "execution_count": 7,
      "metadata": {
        "colab": {
          "base_uri": "https://localhost:8080/"
        },
        "id": "cl1thyy98aXM",
        "outputId": "811e77f5-f21e-49ac-8804-ba0611ff9091"
      },
      "outputs": [
        {
          "output_type": "stream",
          "name": "stdout",
          "text": [
            "현구의 점수를 입력해주세요.20\n",
            "준구의 점수를 입력해주세요.30\n",
            "성구의 점수를 입력해주세요.40\n",
            "3명 점수의 합은 90점 입니다.\n"
          ]
        }
      ],
      "source": [
        "현구_점수 = int(input(\"현구의 점수를 입력해주세요.\"))\n",
        "준구_점수 = int(input(\"준구의 점수를 입력해주세요.\"))\n",
        "성구_점수 = int(input(\"성구의 점수를 입력해주세요.\"))\n",
        "\n",
        "total = 현구_점수+준구_점수+성구_점수\n",
        "\n",
        "print(f'3명 점수의 합은 {total}점 입니다.')"
      ]
    },
    {
      "cell_type": "markdown",
      "metadata": {
        "id": "swqdcIl8Yn-c"
      },
      "source": [
        "__[문제1]<br>__\n",
        "\n",
        "movie_rank 리스트에는 아래와 같이 네 개의 영화 제목이 바인딩되어 있다.\n",
        "\n",
        "\"비밀\"을 \"나폴레옹\"과 \"괴물\" 사이에 추가해주세요\n",
        "\n",
        "<br>\n",
        "\n",
        "```\n",
        "movie = ['서울의 봄', '나폴레옹', '괴물', '베트맨']\n",
        "```\n",
        "\n"
      ]
    },
    {
      "cell_type": "code",
      "execution_count": 15,
      "metadata": {
        "id": "vjUhNFdBYo2n",
        "colab": {
          "base_uri": "https://localhost:8080/"
        },
        "outputId": "72f344ba-6610-4ee9-9a37-c80460327e2d"
      },
      "outputs": [
        {
          "output_type": "execute_result",
          "data": {
            "text/plain": [
              "['서울의 봄', '나폴레옹', '비밀', '괴물', '베트맨']"
            ]
          },
          "metadata": {},
          "execution_count": 15
        }
      ],
      "source": [
        "movie = ['서울의 봄', '나폴레옹', '괴물', '베트맨']\n",
        "\n",
        "movie.insert(2,\"비밀\")\n",
        "movie"
      ]
    },
    {
      "cell_type": "markdown",
      "metadata": {
        "id": "E2RXhbZw8aXM"
      },
      "source": [
        "---"
      ]
    },
    {
      "cell_type": "markdown",
      "metadata": {
        "id": "KZBNuM5MYpZR"
      },
      "source": [
        "__[문제1-2]<br>__\n",
        "\n",
        "movie_rank 리스트에서 '베트맨'를 삭제해주세요\n",
        "\n",
        "<br>\n",
        "\n",
        "```\n",
        "movie = ['서울의 봄', '나폴레옹', '비밀', '괴물', '베트맨']\n",
        "```\n",
        "\n"
      ]
    },
    {
      "cell_type": "code",
      "execution_count": 20,
      "metadata": {
        "id": "cPezrT7cYreh",
        "colab": {
          "base_uri": "https://localhost:8080/"
        },
        "outputId": "ea3846ca-383c-4482-b05a-fee1313046dc"
      },
      "outputs": [
        {
          "output_type": "execute_result",
          "data": {
            "text/plain": [
              "['서울의 봄', '나폴레옹', '비밀', '괴물']"
            ]
          },
          "metadata": {},
          "execution_count": 20
        }
      ],
      "source": [
        "movie_rank = ['서울의 봄', '나폴레옹', '비밀', '괴물', '베트맨']\n",
        "\n",
        "movie.remove('베트맨')\n",
        "movie"
      ]
    },
    {
      "cell_type": "markdown",
      "metadata": {
        "id": "i8EJYPY0YsAe"
      },
      "source": [
        "__[문제2]<br>__\n",
        "\n",
        "[언어1]과 [언어2] 리스트가 있을 때 언어1과 언어2의 원소를 모두 갖고 있는 [언어모음]이라는 list를 만들어주세요\n",
        "\n",
        "```lang1 = [\"C\", \"C++\", \"JAVA\"]```<br>\n",
        "```lang2 = [\"Python\", \"Go\", \"C#\"]```  \n",
        "\n",
        "<br>\n",
        "실행 예)\n",
        "언어들\n",
        "['C', 'C++', 'JAVA', 'Python', 'Go', 'C#']"
      ]
    },
    {
      "cell_type": "code",
      "execution_count": 24,
      "metadata": {
        "colab": {
          "base_uri": "https://localhost:8080/"
        },
        "id": "uBJy36Ae8aXN",
        "outputId": "1d15f731-f5ae-4ddc-86cf-90ee09276be0"
      },
      "outputs": [
        {
          "output_type": "stream",
          "name": "stdout",
          "text": [
            "['C', 'C++', 'JAVA', 'Python', 'Go', 'C#']\n"
          ]
        }
      ],
      "source": [
        "lang1 = [\"C\", \"C++\", \"JAVA\"]\n",
        "lang2 = [\"Python\", \"Go\", \"C#\"]\n",
        "\n",
        "all_lang = lang1 + lang2\n",
        "\n",
        "print(all_lang)"
      ]
    },
    {
      "cell_type": "markdown",
      "metadata": {
        "id": "aYQ-XLWx8aXN"
      },
      "source": [
        "---"
      ]
    },
    {
      "cell_type": "markdown",
      "metadata": {
        "id": "5VFysaYRwT69"
      },
      "source": [
        "__[문제3]<br>__\n",
        "\n",
        "다음 리스트에서 최댓값과 최솟값, 그리고 평균을 출력해주세요.\n",
        "<br>\n",
        "\n",
        "```\n",
        "nums = [1, 2, 3, 4, 5, 6, 7, 9, 10]\n",
        "```\n",
        "\n"
      ]
    },
    {
      "cell_type": "code",
      "execution_count": 28,
      "metadata": {
        "colab": {
          "base_uri": "https://localhost:8080/"
        },
        "id": "aLbwKqtw8aXN",
        "outputId": "2d34d250-5961-4eb6-83f1-0d925de24f4d"
      },
      "outputs": [
        {
          "output_type": "stream",
          "name": "stdout",
          "text": [
            "최솟값은 1 입니다.\n",
            "최댓값은 10 입니다.\n",
            "평균값은 5.222222222222222 입니다.\n"
          ]
        }
      ],
      "source": [
        "nums = [1, 2, 3, 4, 5, 6, 7, 9, 10]\n",
        "\n",
        "min_num = min(nums)\n",
        "max_num = max(nums)\n",
        "ave_num = sum(nums)/len(nums)\n",
        "\n",
        "print(f'최솟값은 {min_num} 입니다.')\n",
        "print(f'최댓값은 {max_num} 입니다.')\n",
        "print(f'평균값은 {ave_num} 입니다.')\n"
      ]
    },
    {
      "cell_type": "markdown",
      "metadata": {
        "id": "pj-355pJ8aXN"
      },
      "source": [
        "---"
      ]
    },
    {
      "cell_type": "markdown",
      "metadata": {
        "id": "5_IA50IQE2AM"
      },
      "source": [
        "__[문제4]__\n",
        "\n",
        "다음 리스트에 저장된 데이터의 개수를 화면에 구해주세요\n",
        "\n",
        "```cook = [\"피자\", \"김밥\", \"만두\", \"양념치킨\", \"족발\", \"피자\", \"김치만두\", \"쫄면\"]```"
      ]
    },
    {
      "cell_type": "code",
      "execution_count": 32,
      "metadata": {
        "id": "iRDvWnF8wTXa",
        "colab": {
          "base_uri": "https://localhost:8080/"
        },
        "outputId": "8e28dec8-2e80-420e-c525-7293ef76ce4f"
      },
      "outputs": [
        {
          "output_type": "stream",
          "name": "stdout",
          "text": [
            "8\n"
          ]
        }
      ],
      "source": [
        "cook = [\"피자\", \"김밥\", \"만두\", \"양념치킨\", \"족발\", \"피자\", \"김치만두\", \"쫄면\"]\n",
        "\n",
        "print(len(cook))"
      ]
    },
    {
      "cell_type": "markdown",
      "metadata": {
        "id": "vo67D6AA8aXN"
      },
      "source": [
        "---"
      ]
    },
    {
      "cell_type": "markdown",
      "metadata": {
        "id": "lTWX_TeF8aXN"
      },
      "source": [
        "---"
      ]
    },
    {
      "cell_type": "markdown",
      "metadata": {
        "id": "Cp7IpuJBFcq2"
      },
      "source": [
        "__[문제5]__\n",
        "\n",
        "price 변수에는 날짜와 종가 정보가 저장돼 있습니다.\n",
        "날짜 정보를 제외하고 가격 정보만을 출력해주세요\n",
        "\n",
        "```price = ['20180728', 100, 130, 140, 150, 160, 170]```\n",
        "\n",
        "<br>\n",
        "출력 예) [100, 130, 140, 150, 160, 170]"
      ]
    },
    {
      "cell_type": "code",
      "execution_count": 33,
      "metadata": {
        "id": "BpMb0bHPFdKF",
        "colab": {
          "base_uri": "https://localhost:8080/"
        },
        "outputId": "07211610-b0b8-45c0-9c0e-13d634b196c6"
      },
      "outputs": [
        {
          "output_type": "stream",
          "name": "stdout",
          "text": [
            "[100, 130, 140, 150, 160, 170]\n"
          ]
        }
      ],
      "source": [
        "price = ['20180728', 100, 130, 140, 150, 160, 170]\n",
        "\n",
        "print(price[1:7])"
      ]
    },
    {
      "cell_type": "markdown",
      "metadata": {
        "id": "eM9nJWuh8aXN"
      },
      "source": [
        "---"
      ]
    },
    {
      "cell_type": "markdown",
      "metadata": {
        "id": "1DwclZivGe72"
      },
      "source": [
        "__[문제6]__\n",
        "\n",
        "<br>\n",
        "다음 딕셔너리를 사용하여 메로나 가격을 출력해주세요\n",
        "\n",
        "```ice = {'메로나': 1000,```<br>\n",
        "&emsp;&emsp;&emsp;&emsp;```'폴로포': 1200,```<br>\n",
        "&emsp;&emsp;&emsp;&emsp;```'빵빠레': 1800,```<br>\n",
        "&emsp;&emsp;&emsp;&emsp;```'죠스바': 1200,```<br>\n",
        "&emsp;&emsp;&emsp;&emsp;```'월드콘': 1500}```<br>\n",
        "\n",
        "<br>\n",
        "출력 예) 메로나 가격: 1000"
      ]
    },
    {
      "cell_type": "code",
      "execution_count": 38,
      "metadata": {
        "id": "jADTPFzOHcKk",
        "colab": {
          "base_uri": "https://localhost:8080/"
        },
        "outputId": "69862e60-d5e6-4a48-a61d-6f64bc8c7926"
      },
      "outputs": [
        {
          "output_type": "stream",
          "name": "stdout",
          "text": [
            "메로나 가격: 1000원\n"
          ]
        }
      ],
      "source": [
        "ice = {\n",
        "    '메로나': 1000,\n",
        "    '폴로포': 1200,\n",
        "    '빵빠레': 1800,\n",
        "    '죠스바': 1200,\n",
        "    '월드콘': 1500\n",
        "    }\n",
        "print(f'메로나 가격: {ice[\"메로나\"]}원')"
      ]
    },
    {
      "cell_type": "markdown",
      "metadata": {
        "id": "-BsJXtcV8aXN"
      },
      "source": [
        "---"
      ]
    },
    {
      "cell_type": "markdown",
      "metadata": {
        "id": "mBs2AaqcJAXN"
      },
      "source": [
        "__[문제6-1]__\n",
        "\n",
        "다음 딕셔너리에서 메로나의 가격을 1300으로 수정해주세요\n",
        "\n",
        "```ice = {'메로나': 1000,```<br>\n",
        "&emsp;&emsp;&emsp;&emsp;```'폴로포': 1200,```<br>\n",
        "&emsp;&emsp;&emsp;&emsp;```'빵빠레': 1800,```<br>\n",
        "&emsp;&emsp;&emsp;&emsp;```'죠스바': 1200,```<br>\n",
        "&emsp;&emsp;&emsp;&emsp;```'월드콘': 1500}```<br>"
      ]
    },
    {
      "cell_type": "code",
      "execution_count": 39,
      "metadata": {
        "id": "C2RyUgoTJKsF",
        "colab": {
          "base_uri": "https://localhost:8080/"
        },
        "outputId": "a94cd075-ea3f-4661-be3f-db38aba9848a"
      },
      "outputs": [
        {
          "output_type": "execute_result",
          "data": {
            "text/plain": [
              "{'메로나': 1300, '폴로포': 1200, '빵빠레': 1800, '죠스바': 1200, '월드콘': 1500}"
            ]
          },
          "metadata": {},
          "execution_count": 39
        }
      ],
      "source": [
        "ice = {\n",
        "    '메로나' : 1000,\n",
        "    '폴로포' : 1200,\n",
        "    '빵빠레' : 1800,\n",
        "    '죠스바' : 1200,\n",
        "    '월드콘' : 1500\n",
        "}\n",
        "ice['메로나']=1300\n",
        "ice"
      ]
    },
    {
      "cell_type": "markdown",
      "metadata": {
        "id": "D75hFgzC8aXN"
      },
      "source": [
        "---"
      ]
    },
    {
      "cell_type": "markdown",
      "metadata": {
        "id": "_ZdcVEtTJKS1"
      },
      "source": [
        "__[문제7]__\n",
        "\n",
        "아래 순서대로 주어진 수강생 이름과 등급을 하나의 딕셔너리로 만드는 코드를 작성해주세요\n",
        "\n",
        "\n",
        "names : 나이썬, 김자바, 김씨, 박씨샵  \n",
        "grades :   B       B      A      C\n"
      ]
    },
    {
      "cell_type": "code",
      "execution_count": 44,
      "metadata": {
        "id": "7RyqlYwpJOp7",
        "colab": {
          "base_uri": "https://localhost:8080/"
        },
        "outputId": "9c212cc1-80b5-476f-c646-761de744d3a9"
      },
      "outputs": [
        {
          "output_type": "stream",
          "name": "stdout",
          "text": [
            "{'나이썬': 'B', '김자바': 'B', '김씨': 'A', '박씨샵': 'C'}\n"
          ]
        }
      ],
      "source": [
        "names = ['나이썬', '김자바', '김씨', '박씨샵']\n",
        "grades = ['B', 'B', 'A', 'C']\n",
        "\n",
        "딕셔너리 = dict(zip(names,grades))\n",
        "print(딕셔너리)\n"
      ]
    },
    {
      "cell_type": "markdown",
      "metadata": {
        "id": "RStOJBpg8aXO"
      },
      "source": [
        "---"
      ]
    },
    {
      "cell_type": "markdown",
      "metadata": {
        "id": "yzi6f2-YKsk4"
      },
      "source": [
        "__[문제8]__\n",
        "\n",
        "아래 ice 딕셔너리에 데이터를 추가 후 출력해주세요\n",
        "\n",
        "ice = {\"메로나\": [300, 20],  \n",
        "              \"비비빅\": [400, 3],  \n",
        "              \"죠스바\": [250, 100]}  \n",
        "\n",
        "\n",
        "추가해야하는 데이터) 이름 : 보석바, 가격:650, 재고:10"
      ]
    },
    {
      "cell_type": "code",
      "execution_count": 47,
      "metadata": {
        "colab": {
          "base_uri": "https://localhost:8080/"
        },
        "id": "rNYVHB9g8aXO",
        "outputId": "a49397fc-1416-47e8-a221-353a1b94a189"
      },
      "outputs": [
        {
          "output_type": "stream",
          "name": "stdout",
          "text": [
            "{'메로나': [300, 20], '비비빅': [400, 3], '죠스바': [250, 100], '보석바': [650, 10]}\n"
          ]
        }
      ],
      "source": [
        "ice = {\n",
        "    \"메로나\": [300, 20],\n",
        "    \"비비빅\": [400, 3],\n",
        "    \"죠스바\": [250, 100]\n",
        "}\n",
        "\n",
        "ice.update({\"보석바\": [650, 10]})\n",
        "\n",
        "print(ice)"
      ]
    },
    {
      "cell_type": "markdown",
      "metadata": {
        "id": "k2c0wRSM8aXO"
      },
      "source": [
        "---"
      ]
    },
    {
      "cell_type": "markdown",
      "metadata": {
        "id": "RQJC80PBLWGt"
      },
      "source": [
        "__[문제9]__\n",
        "\n",
        "아래 딕셔너리에서 key만 list 형태로 출력해주세요\n",
        "\n",
        "ice = {'메로나': 1000, '폴로포': 1200, '빵빠레': 1800, '죠스바': 1200, '월드콘': 1500}\n"
      ]
    },
    {
      "cell_type": "code",
      "execution_count": 48,
      "metadata": {
        "id": "m5m-a09iLVbO",
        "colab": {
          "base_uri": "https://localhost:8080/"
        },
        "outputId": "6fd4ac2f-eb06-4c27-a0a2-bd301f0c464c"
      },
      "outputs": [
        {
          "output_type": "stream",
          "name": "stdout",
          "text": [
            "['메로나', '폴라포', '빵빠레', '죠스바', '월드콘']\n"
          ]
        }
      ],
      "source": [
        "ice = {\n",
        "    '메로나': 1000,\n",
        "    '폴라포': 1200,\n",
        "    '빵빠레': 1800,\n",
        "    '죠스바': 1200,\n",
        "    '월드콘': 1500\n",
        "}\n",
        "리스화된_키 = list(ice.keys())\n",
        "\n",
        "print(리스화된_키)"
      ]
    }
  ],
  "metadata": {
    "colab": {
      "provenance": [],
      "include_colab_link": true
    },
    "kernelspec": {
      "display_name": "Python 3",
      "name": "python3"
    },
    "language_info": {
      "name": "python"
    }
  },
  "nbformat": 4,
  "nbformat_minor": 0
}